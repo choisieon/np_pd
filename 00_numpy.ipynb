{
 "cells": [
  {
   "cell_type": "markdown",
   "id": "f133be8c-f9d3-43a6-ab9b-25f1cf763dc2",
   "metadata": {},
   "source": [
    "## numpy Go"
   ]
  },
  {
   "cell_type": "code",
   "execution_count": 104,
   "id": "dcb8874b-94dd-4e27-8f7a-a39c9efbfd02",
   "metadata": {},
   "outputs": [],
   "source": [
    "import numpy as np\n",
    "\n",
    "my_list = list(range(1000000)) \n",
    "my_array = np.arange(1000000)"
   ]
  },
  {
   "cell_type": "code",
   "execution_count": 105,
   "id": "24f2ea49-199c-4cea-a42d-dab6e5ed95bc",
   "metadata": {},
   "outputs": [
    {
     "name": "stdout",
     "output_type": "stream",
     "text": [
      "33.8 ms ± 391 μs per loop (mean ± std. dev. of 7 runs, 10 loops each)\n",
      "1.36 ms ± 29.9 μs per loop (mean ± std. dev. of 7 runs, 1,000 loops each)\n"
     ]
    }
   ],
   "source": [
    "%timeit my_list2 = [i *2 for i in my_list]\n",
    "%timeit my_array2 = my_array * 2"
   ]
  },
  {
   "cell_type": "code",
   "execution_count": 11,
   "id": "0525fd3a-2902-4be8-9dd3-280c7d9dbb1d",
   "metadata": {},
   "outputs": [
    {
     "name": "stdout",
     "output_type": "stream",
     "text": [
      "[[   1.     1.2    3. ]\n",
      " [-123.   123.     0. ]]\n"
     ]
    }
   ],
   "source": [
    "a =[\n",
    "[1, 1.2, 3],\n",
    "    [-123, 123, 0]\n",
    "]\n",
    "data = np.array(a)\n",
    "print(data)"
   ]
  },
  {
   "cell_type": "code",
   "execution_count": 13,
   "id": "bf7d892b-833f-4f29-8615-7ffc079bdcf1",
   "metadata": {},
   "outputs": [
    {
     "name": "stdout",
     "output_type": "stream",
     "text": [
      "[[   10.    12.    30.]\n",
      " [-1230.  1230.     0.]]\n",
      "[[   2.     2.4    6. ]\n",
      " [-246.   246.     0. ]]\n"
     ]
    }
   ],
   "source": [
    "# 0차원 : 스칼라(scala), 1차원 : 벡터(vector), \n",
    "# 2차원 : 행렬(matrix), 3차원 : 텐서(tenser)\n",
    "print(data * 10)\n",
    "print(data + data)"
   ]
  },
  {
   "cell_type": "code",
   "execution_count": 15,
   "id": "7b060f0f-2482-4a82-88f9-e77da1b93e4e",
   "metadata": {},
   "outputs": [
    {
     "name": "stdout",
     "output_type": "stream",
     "text": [
      "(2, 3)\n",
      "float64\n"
     ]
    }
   ],
   "source": [
    "print(data.shape)\n",
    "print(data.dtype)\n",
    "\n",
    "# numpy는 배열을 다룸. dtype은 하나하나의 요소를 설명함"
   ]
  },
  {
   "cell_type": "markdown",
   "id": "cc6e550e-3612-458d-863b-8aafacd07bb2",
   "metadata": {},
   "source": [
    "## ndarray 생성하기"
   ]
  },
  {
   "cell_type": "code",
   "execution_count": 20,
   "id": "b97eb6ef-c574-4c39-87e1-e4540260ec1c",
   "metadata": {},
   "outputs": [
    {
     "name": "stdout",
     "output_type": "stream",
     "text": [
      "[1 2 3 4 5]\n",
      "<class 'numpy.ndarray'>\n"
     ]
    }
   ],
   "source": [
    "data1 = [1, 2, 3, 4, 5]\n",
    "arr1 = np.array(data1)\n",
    "print(arr1)\n",
    "print(type(arr1))"
   ]
  },
  {
   "cell_type": "code",
   "execution_count": 21,
   "id": "4d01f90b-7226-40cf-af2e-38a055cd0fb1",
   "metadata": {},
   "outputs": [
    {
     "name": "stdout",
     "output_type": "stream",
     "text": [
      "[[1.1 2.2]\n",
      " [3.3 4.4]]\n",
      "<class 'numpy.ndarray'>\n"
     ]
    }
   ],
   "source": [
    "arr2 = np.array([[1.1, 2.2],[3.3, 4.4]])\n",
    "print(arr2)\n",
    "print(type(arr2))\n",
    "\n",
    "# 데이터 구성이 딱 맞아야함 X ([1.1], [2.2, 3.3]) X"
   ]
  },
  {
   "cell_type": "code",
   "execution_count": 24,
   "id": "50d903ae-3511-48ae-8a79-d7c754c0fe44",
   "metadata": {},
   "outputs": [
    {
     "name": "stdout",
     "output_type": "stream",
     "text": [
      "1\n",
      "2\n"
     ]
    }
   ],
   "source": [
    "print(arr1.ndim)\n",
    "print(arr2.ndim)\n",
    "\n",
    "# 아마 배열 수"
   ]
  },
  {
   "cell_type": "code",
   "execution_count": 25,
   "id": "28426b9b-ede4-47f7-a570-ecf6833a3cd2",
   "metadata": {},
   "outputs": [
    {
     "name": "stdout",
     "output_type": "stream",
     "text": [
      "(5,)\n",
      "(2, 2)\n"
     ]
    }
   ],
   "source": [
    "print(arr1.shape)\n",
    "print(arr2.shape)\n",
    "\n",
    "# 각 배열에 요소 개수"
   ]
  },
  {
   "cell_type": "code",
   "execution_count": 31,
   "id": "1eb21902-6aa8-4a7b-aafe-23e476139ac1",
   "metadata": {},
   "outputs": [
    {
     "name": "stdout",
     "output_type": "stream",
     "text": [
      "[0. 0. 0. 0. 0. 0. 0. 0. 0. 0.]\n",
      "[[0. 0. 0. 0. 0.]\n",
      " [0. 0. 0. 0. 0.]\n",
      " [0. 0. 0. 0. 0.]\n",
      " [0. 0. 0. 0. 0.]\n",
      " [0. 0. 0. 0. 0.]]\n",
      "[[[0. 0.]\n",
      "  [0. 0.]]\n",
      "\n",
      " [[0. 0.]\n",
      "  [0. 0.]]]\n"
     ]
    }
   ],
   "source": [
    "print(np.zeros(10))\n",
    "#print([0] * 10)\n",
    "print(np.zeros((5, 5)))\n",
    "print(np.empty((2, 2, 2)))"
   ]
  },
  {
   "cell_type": "code",
   "execution_count": 32,
   "id": "cc2936d2-ce9c-47ce-8b6e-b088f518965a",
   "metadata": {},
   "outputs": [
    {
     "name": "stdout",
     "output_type": "stream",
     "text": [
      "[0 1 2 3 4 5 6 7 8 9]\n"
     ]
    }
   ],
   "source": [
    "print(np.arange(10))"
   ]
  },
  {
   "cell_type": "markdown",
   "id": "9f822767-9eb6-4156-bc8e-8e7a8dcec062",
   "metadata": {},
   "source": [
    "## ndarray 자료형"
   ]
  },
  {
   "cell_type": "code",
   "execution_count": 35,
   "id": "1e1f7a57-d864-48df-ad05-22d80ffe5263",
   "metadata": {},
   "outputs": [
    {
     "name": "stdout",
     "output_type": "stream",
     "text": [
      "float64\n",
      "int32\n"
     ]
    }
   ],
   "source": [
    "arr1 = np.array([1, 2, 3], dtype = np.float64)\n",
    "arr2 = np.array([1, 2, 3], dtype = np.int32)\n",
    "\n",
    "print(arr1.dtype)\n",
    "print(arr2.dtype)"
   ]
  },
  {
   "cell_type": "code",
   "execution_count": 39,
   "id": "3966a363-fbd8-4820-b472-158125192d6b",
   "metadata": {},
   "outputs": [
    {
     "name": "stdout",
     "output_type": "stream",
     "text": [
      "int64\n",
      "[1. 2. 3.]\n",
      "float64\n"
     ]
    }
   ],
   "source": [
    "arr1 = np.array([1, 2, 3])\n",
    "print(arr1.dtype)\n",
    "float_arr1 = arr1.astype(np.float64)\n",
    "print(float_arr1)\n",
    "print(float_arr1.dtype)"
   ]
  },
  {
   "cell_type": "code",
   "execution_count": 43,
   "id": "ab85508e-f779-4c57-b336-fd79d082ff1e",
   "metadata": {},
   "outputs": [
    {
     "name": "stdout",
     "output_type": "stream",
     "text": [
      "float64\n",
      "[1 2 3]\n",
      "int64\n"
     ]
    }
   ],
   "source": [
    "arr2 = np.array([1.1, 2.2, 3.3])\n",
    "print(arr2.dtype)\n",
    "int_arr2 = arr2.astype(np.int64)\n",
    "print(int_arr2)\n",
    "print(int_arr2.dtype)"
   ]
  },
  {
   "cell_type": "markdown",
   "id": "04f065fd-84ff-4f59-967e-d50ba470de04",
   "metadata": {},
   "source": [
    "## 산술 연산"
   ]
  },
  {
   "cell_type": "code",
   "execution_count": 51,
   "id": "52bb8a28-dd66-426b-ae24-a7ec8f1b5145",
   "metadata": {},
   "outputs": [
    {
     "name": "stdout",
     "output_type": "stream",
     "text": [
      "[[1 2 3]\n",
      " [4 5 6]]\n",
      "[[ 1  4  9]\n",
      " [16 25 36]]\n",
      "[[ 2  4  6]\n",
      " [ 8 10 12]]\n",
      "[[1.         0.5        0.33333333]\n",
      " [0.25       0.2        0.16666667]]\n",
      "[[  1   8  27]\n",
      " [ 64 125 216]]\n"
     ]
    }
   ],
   "source": [
    "arr = np.array([[1, 2, 3], [4, 5, 6]])\n",
    "print(arr)\n",
    "print(arr * arr)\n",
    "print(arr + arr)\n",
    "print(1 / arr)\n",
    "print(arr ** 3)\n",
    "\n",
    "# 지 값을 여러번 계산함"
   ]
  },
  {
   "cell_type": "code",
   "execution_count": 56,
   "id": "7dc576ca-986d-4b2b-b2c3-a88157d12d31",
   "metadata": {},
   "outputs": [
    {
     "name": "stdout",
     "output_type": "stream",
     "text": [
      "[[1 2 3]\n",
      " [4 5 6]]\n",
      "[[3 2 1]\n",
      " [1 2 3]]\n",
      "[[False False  True]\n",
      " [ True  True  True]]\n",
      "[[False False  True]\n",
      " [False False False]]\n"
     ]
    }
   ],
   "source": [
    "arr2 = np.array([[3, 2, 1],[1, 2, 3]])\n",
    "print(arr)\n",
    "print(arr2)\n",
    "print(arr > arr2)\n",
    "print(arr == 3)"
   ]
  },
  {
   "cell_type": "markdown",
   "id": "3559ed98-4124-4b83-b47b-07df8c4c2755",
   "metadata": {},
   "source": [
    "## 색인과 슬라이싱"
   ]
  },
  {
   "cell_type": "code",
   "execution_count": 59,
   "id": "6d52da29-270b-4104-9738-bba49da2aeac",
   "metadata": {},
   "outputs": [
    {
     "name": "stdout",
     "output_type": "stream",
     "text": [
      "[0 1 2 3 4 5 6 7 8 9]\n"
     ]
    }
   ],
   "source": [
    "arr =  np.arange(10)\n",
    "print(arr)"
   ]
  },
  {
   "cell_type": "code",
   "execution_count": 66,
   "id": "1103bdd7-77cf-4a36-9d30-b2fd96969cce",
   "metadata": {},
   "outputs": [
    {
     "name": "stdout",
     "output_type": "stream",
     "text": [
      "7\n",
      "[2 3 4]\n"
     ]
    },
    {
     "data": {
      "text/plain": [
       "np.int64(7)"
      ]
     },
     "execution_count": 66,
     "metadata": {},
     "output_type": "execute_result"
    }
   ],
   "source": [
    "print(arr[7])\n",
    "print(arr[2:5])\n",
    "arr[7]"
   ]
  },
  {
   "cell_type": "code",
   "execution_count": 68,
   "id": "56369692-b8a8-4b32-997d-e4ad7a7328cf",
   "metadata": {},
   "outputs": [
    {
     "name": "stdout",
     "output_type": "stream",
     "text": [
      "[ 0  1 10 10 10  5  6  7  8  9]\n"
     ]
    }
   ],
   "source": [
    "arr[2:5] = 10\n",
    "print(arr)\n",
    "#파이썬은 안되는데 넘파이는 값 수정이 된다. "
   ]
  },
  {
   "cell_type": "code",
   "execution_count": 71,
   "id": "49e61f2a-d5ed-41f5-a7aa-afb6e42bdee8",
   "metadata": {},
   "outputs": [
    {
     "name": "stdout",
     "output_type": "stream",
     "text": [
      "[1, 2, 3, 4, 5]\n"
     ]
    }
   ],
   "source": [
    "py_list = [1, 2, 3, 4, 5]\n",
    "py_list[2:3].pop()\n",
    "print(py_list)\n",
    "#파이썬은 원본을 그대로 사용한다. 지금까지 한 것 1차원 배"
   ]
  },
  {
   "cell_type": "code",
   "execution_count": 72,
   "id": "81928bec-5d51-45db-817b-7c399fa953fe",
   "metadata": {},
   "outputs": [
    {
     "name": "stdout",
     "output_type": "stream",
     "text": [
      "[[1 2 3]\n",
      " [4 5 6]]\n"
     ]
    }
   ],
   "source": [
    "arr = np.array([[1,2,3],[4,5,6]])\n",
    "print(arr)\n",
    "\n",
    "#1,2,3은 0번째 데이터"
   ]
  },
  {
   "cell_type": "code",
   "execution_count": 77,
   "id": "8d01c22e-6516-43fd-aee8-ed6d127649ed",
   "metadata": {},
   "outputs": [
    {
     "name": "stdout",
     "output_type": "stream",
     "text": [
      "[4 5 6]\n",
      "5\n",
      "5\n"
     ]
    }
   ],
   "source": [
    "print(arr[1])\n",
    "print(arr[1][1])\n",
    "print(arr[1, 1])"
   ]
  },
  {
   "cell_type": "code",
   "execution_count": 87,
   "id": "e069c434-42eb-4221-85c9-51a4f0a451b1",
   "metadata": {},
   "outputs": [],
   "source": [
    "arr3d = np.array([[[1,2,3],[4,5,6],[7,8,9]],\n",
    "                   [[11,12,13],[14,15,16],[17,18,19]],\n",
    "                   [[11,22,33],[44,55,66],[77,88,99]]])"
   ]
  },
  {
   "cell_type": "code",
   "execution_count": 88,
   "id": "b233cd49-6e4f-4bc3-b345-110b9e077ac2",
   "metadata": {},
   "outputs": [
    {
     "name": "stdout",
     "output_type": "stream",
     "text": [
      "22\n",
      "22\n"
     ]
    }
   ],
   "source": [
    "print(arr3d[2][0][1])\n",
    "print(arr3d[2,0,1])"
   ]
  },
  {
   "cell_type": "code",
   "execution_count": 99,
   "id": "2199f925-2b74-498e-b254-51c3f15267e0",
   "metadata": {},
   "outputs": [
    {
     "data": {
      "text/plain": [
       "array([[[6],\n",
       "        [9]]])"
      ]
     },
     "execution_count": 99,
     "metadata": {},
     "output_type": "execute_result"
    }
   ],
   "source": [
    "arr3d[:1, 1:, 2:]"
   ]
  },
  {
   "cell_type": "markdown",
   "id": "fcc4d31e-d263-458a-8a16-1a8566bd1f3e",
   "metadata": {},
   "source": [
    "## 불리언 값으로 선택"
   ]
  },
  {
   "cell_type": "code",
   "execution_count": 93,
   "id": "df42357e-f7a4-4b8a-bca1-afe4ede0c1bc",
   "metadata": {},
   "outputs": [],
   "source": [
    "names = np.array(['hong', 'kim', 'hong', 'kim'])\n",
    "data = np.array([['math', 60],['math', 90],['eng',70],['eng', 50]])"
   ]
  },
  {
   "cell_type": "code",
   "execution_count": 94,
   "id": "6155cac0-7ae9-4760-a7f7-2fc81ae9493d",
   "metadata": {},
   "outputs": [
    {
     "data": {
      "text/plain": [
       "array([ True, False,  True, False])"
      ]
     },
     "execution_count": 94,
     "metadata": {},
     "output_type": "execute_result"
    }
   ],
   "source": [
    "names == 'hong'"
   ]
  },
  {
   "cell_type": "code",
   "execution_count": 96,
   "id": "ad2f69c6-bf7c-46fa-ba70-33e3d844868d",
   "metadata": {},
   "outputs": [
    {
     "data": {
      "text/plain": [
       "array([['math', '60'],\n",
       "       ['eng', '70']], dtype='<U21')"
      ]
     },
     "execution_count": 96,
     "metadata": {},
     "output_type": "execute_result"
    }
   ],
   "source": [
    "data[True, False, True, False]\n",
    "data[names == 'hong']\n",
    "#특정 조건에 맞는 데이터 고를때 사용"
   ]
  },
  {
   "cell_type": "code",
   "execution_count": 98,
   "id": "3733e6c8-118a-46e9-afec-76ce7c826828",
   "metadata": {},
   "outputs": [
    {
     "name": "stdout",
     "output_type": "stream",
     "text": [
      "['60' '70']\n",
      "[['math']\n",
      " ['eng']]\n"
     ]
    }
   ],
   "source": [
    "print(data[names == 'hong', 1])\n",
    "print(data[names == 'hong', :1])"
   ]
  },
  {
   "cell_type": "code",
   "execution_count": 101,
   "id": "9690ca86-9acd-4dd8-9529-396182c15074",
   "metadata": {},
   "outputs": [
    {
     "data": {
      "text/plain": [
       "array([False,  True, False,  True])"
      ]
     },
     "execution_count": 101,
     "metadata": {},
     "output_type": "execute_result"
    }
   ],
   "source": [
    "names != 'hong'"
   ]
  },
  {
   "cell_type": "code",
   "execution_count": 102,
   "id": "ab90b1e9-5dc1-4e69-afb6-f4a635066a3f",
   "metadata": {},
   "outputs": [
    {
     "name": "stdout",
     "output_type": "stream",
     "text": [
      "[False  True False  True]\n",
      "[False  True False  True]\n"
     ]
    }
   ],
   "source": [
    "print(names != 'hong')\n",
    "print(~(names == 'hong'))"
   ]
  },
  {
   "cell_type": "code",
   "execution_count": 103,
   "id": "9d9f74d3-a24a-4b78-bddc-bdb56aa5f46b",
   "metadata": {},
   "outputs": [
    {
     "data": {
      "text/plain": [
       "array([['math', '90'],\n",
       "       ['eng', '50']], dtype='<U21')"
      ]
     },
     "execution_count": 103,
     "metadata": {},
     "output_type": "execute_result"
    }
   ],
   "source": [
    "cond = names == 'kim'\n",
    "data[cond]"
   ]
  },
  {
   "cell_type": "markdown",
   "id": "bcca98fa-496d-4800-8082-2ee8377a59b4",
   "metadata": {},
   "source": [
    "## 팬시 색인 (fancy indexing)"
   ]
  },
  {
   "cell_type": "code",
   "execution_count": 108,
   "id": "c144fabf-5617-4c90-afd2-dc59455efb28",
   "metadata": {},
   "outputs": [
    {
     "name": "stdout",
     "output_type": "stream",
     "text": [
      "[[0. 0. 0. 0.]\n",
      " [1. 1. 1. 1.]\n",
      " [2. 2. 2. 2.]\n",
      " [3. 3. 3. 3.]\n",
      " [4. 4. 4. 4.]\n",
      " [5. 5. 5. 5.]\n",
      " [6. 6. 6. 6.]\n",
      " [7. 7. 7. 7.]]\n"
     ]
    }
   ],
   "source": [
    "arr = np.zeros((8,4))\n",
    "for i in range(8):\n",
    "    arr[i] = i\n",
    "print(arr)"
   ]
  },
  {
   "cell_type": "code",
   "execution_count": 109,
   "id": "4c0ec12e-39f9-4d47-b665-7c231ccde335",
   "metadata": {},
   "outputs": [
    {
     "data": {
      "text/plain": [
       "array([[4., 4., 4., 4.],\n",
       "       [3., 3., 3., 3.],\n",
       "       [0., 0., 0., 0.],\n",
       "       [5., 5., 5., 5.]])"
      ]
     },
     "execution_count": 109,
     "metadata": {},
     "output_type": "execute_result"
    }
   ],
   "source": [
    "arr[[4, 3, 0, 5]]"
   ]
  },
  {
   "cell_type": "code",
   "execution_count": 110,
   "id": "b1b8bd9a-a600-45af-8bc6-9491fdc17a1e",
   "metadata": {},
   "outputs": [
    {
     "data": {
      "text/plain": [
       "array([[5., 5., 5., 5.],\n",
       "       [3., 3., 3., 3.],\n",
       "       [7., 7., 7., 7.]])"
      ]
     },
     "execution_count": 110,
     "metadata": {},
     "output_type": "execute_result"
    }
   ],
   "source": [
    "arr[[-3, -5, -1]]"
   ]
  },
  {
   "cell_type": "code",
   "execution_count": 125,
   "id": "7c35c7cd-1ca9-465c-8d22-48b34598c560",
   "metadata": {},
   "outputs": [
    {
     "name": "stdout",
     "output_type": "stream",
     "text": [
      "[[ 0  1  2  3]\n",
      " [ 4  5  6  7]\n",
      " [ 8  9 10 11]\n",
      " [12 13 14 15]\n",
      " [16 17 18 19]\n",
      " [20 21 22 23]\n",
      " [24 25 26 27]\n",
      " [28 29 30 31]]\n"
     ]
    }
   ],
   "source": [
    "arr = np.arange(32).reshape(8, 4) # 8개의 set, 4개의 요소\n",
    "print(arr)"
   ]
  },
  {
   "cell_type": "code",
   "execution_count": 130,
   "id": "ab3af87b-7206-434d-bd57-f8df5070be32",
   "metadata": {},
   "outputs": [
    {
     "data": {
      "text/plain": [
       "array([[ 6,  7],\n",
       "       [22, 23]])"
      ]
     },
     "execution_count": 130,
     "metadata": {},
     "output_type": "execute_result"
    }
   ],
   "source": [
    "arr[[[1, 5],[2, 5]]]\n",
    "arr[[1, 5]][:,[2,3]]"
   ]
  },
  {
   "cell_type": "markdown",
   "id": "22b23511-c60b-4511-acaa-64ec9df5cd20",
   "metadata": {},
   "source": [
    "## 배열 전치"
   ]
  },
  {
   "cell_type": "code",
   "execution_count": 131,
   "id": "48f0975b-b41b-4886-90de-31f1b3cdc5ea",
   "metadata": {},
   "outputs": [
    {
     "name": "stdout",
     "output_type": "stream",
     "text": [
      "[[ 0  1  2  3  4]\n",
      " [ 5  6  7  8  9]\n",
      " [10 11 12 13 14]]\n"
     ]
    }
   ],
   "source": [
    "arr = np.arange(15).reshape(3, 5)\n",
    "print(arr)"
   ]
  },
  {
   "cell_type": "code",
   "execution_count": 132,
   "id": "1c6f55a7-a36a-4d9e-91ad-d1722b8f0a3b",
   "metadata": {},
   "outputs": [
    {
     "name": "stdout",
     "output_type": "stream",
     "text": [
      "[[ 0  5 10]\n",
      " [ 1  6 11]\n",
      " [ 2  7 12]\n",
      " [ 3  8 13]\n",
      " [ 4  9 14]]\n"
     ]
    }
   ],
   "source": [
    "print(arr.T)"
   ]
  },
  {
   "cell_type": "code",
   "execution_count": 135,
   "id": "73aeb987-940a-4b58-b37d-f70e29ad3ad4",
   "metadata": {},
   "outputs": [
    {
     "name": "stdout",
     "output_type": "stream",
     "text": [
      "[[ 30  80 130]\n",
      " [ 80 255 430]\n",
      " [130 430 730]]\n",
      "[[ 30  80 130]\n",
      " [ 80 255 430]\n",
      " [130 430 730]]\n"
     ]
    }
   ],
   "source": [
    "# 행렬의 내적, 곱\n",
    "print(arr @ arr.T)\n",
    "print(np.dot(arr,arr.T))"
   ]
  },
  {
   "cell_type": "markdown",
   "id": "6a74ac60-8c65-400f-b702-c29db9cb0291",
   "metadata": {},
   "source": [
    "## numpy 함수"
   ]
  },
  {
   "cell_type": "code",
   "execution_count": 151,
   "id": "f1504cc5-1e48-4a0d-b70e-ad9033151b46",
   "metadata": {},
   "outputs": [
    {
     "name": "stdout",
     "output_type": "stream",
     "text": [
      "[[ 0.23243703 -0.665715    0.02550846]\n",
      " [ 1.37401278 -1.07044899 -2.78261187]\n",
      " [ 0.66848967  0.44866926 -0.07283804]]\n"
     ]
    }
   ],
   "source": [
    "samples = np.random.standard_normal(size=(3, 3))\n",
    "print(samples)"
   ]
  },
  {
   "cell_type": "code",
   "execution_count": 152,
   "id": "1217655e-bf2c-4e9c-9b2c-f53cf380f1eb",
   "metadata": {},
   "outputs": [
    {
     "name": "stdout",
     "output_type": "stream",
     "text": [
      "[[0.48211723        nan 0.15971368]\n",
      " [1.17218291        nan        nan]\n",
      " [0.81761218 0.66982778        nan]]\n"
     ]
    },
    {
     "name": "stderr",
     "output_type": "stream",
     "text": [
      "/var/folders/0n/1bq7yv2110n08vgc04jsftjh0000gn/T/ipykernel_23552/427227.py:1: RuntimeWarning: invalid value encountered in sqrt\n",
      "  arr1 = np.sqrt(samples)\n"
     ]
    }
   ],
   "source": [
    "arr1 = np.sqrt(samples)\n",
    "print(arr1)\n",
    "#nan = not a number, 결측치"
   ]
  },
  {
   "cell_type": "code",
   "execution_count": 153,
   "id": "b2b5a16c-318f-4d83-8b6b-045c1f2cdbf7",
   "metadata": {},
   "outputs": [
    {
     "name": "stdout",
     "output_type": "stream",
     "text": [
      "[[0.23243703 0.665715   0.02550846]\n",
      " [1.37401278 1.07044899 2.78261187]\n",
      " [0.66848967 0.44866926 0.07283804]]\n"
     ]
    }
   ],
   "source": [
    "arr2 = np.abs(samples)\n",
    "print(arr2)\n",
    "#abs = absolute 절댓값"
   ]
  },
  {
   "cell_type": "code",
   "execution_count": 154,
   "id": "794ddd4f-e08e-4578-9890-d4ebcdb99422",
   "metadata": {},
   "outputs": [
    {
     "data": {
      "text/plain": [
       "array([[False,  True, False],\n",
       "       [False,  True,  True],\n",
       "       [False, False,  True]])"
      ]
     },
     "execution_count": 154,
     "metadata": {},
     "output_type": "execute_result"
    }
   ],
   "source": [
    "np.isnan(arr1)"
   ]
  },
  {
   "cell_type": "code",
   "execution_count": null,
   "id": "efe051d6-720f-4246-a142-14919c80b50a",
   "metadata": {},
   "outputs": [],
   "source": []
  },
  {
   "cell_type": "code",
   "execution_count": null,
   "id": "5a9a175b-dd5e-4b72-87b8-7c3dc6ac203a",
   "metadata": {},
   "outputs": [],
   "source": []
  },
  {
   "cell_type": "code",
   "execution_count": null,
   "id": "74d04418-dce1-49a7-a3b4-81c91c3300de",
   "metadata": {},
   "outputs": [],
   "source": []
  }
 ],
 "metadata": {
  "kernelspec": {
   "display_name": "Python 3 (ipykernel)",
   "language": "python",
   "name": "python3"
  },
  "language_info": {
   "codemirror_mode": {
    "name": "ipython",
    "version": 3
   },
   "file_extension": ".py",
   "mimetype": "text/x-python",
   "name": "python",
   "nbconvert_exporter": "python",
   "pygments_lexer": "ipython3",
   "version": "3.13.2"
  }
 },
 "nbformat": 4,
 "nbformat_minor": 5
}
